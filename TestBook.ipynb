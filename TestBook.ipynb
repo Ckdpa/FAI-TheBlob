{
 "cells": [
  {
   "cell_type": "code",
   "execution_count": 1,
   "metadata": {},
   "outputs": [],
   "source": [
    "%load_ext autoreload\n",
    "%autoreload 2\n",
    "from GameNode import GameNode\n",
    "import pickle\n",
    "import numpy as np\n",
    "import matplotlib.pyplot as plt\n",
    "from AlphaBeta import alpha_beta\n",
    "from AlphaBeta import find_best_move"
   ]
  },
  {
   "cell_type": "code",
   "execution_count": null,
   "metadata": {},
   "outputs": [],
   "source": []
  },
  {
   "cell_type": "code",
   "execution_count": 107,
   "metadata": {},
   "outputs": [
    {
     "name": "stdout",
     "output_type": "stream",
     "text": [
      "[[('Empty', 0) ('Empty', 0) ('Empty', 0) ('Empty', 0) ('Empty', 0)\n",
      "  ('Empty', 0)]\n",
      " [('Empty', 0) ('Empty', 0) ('Empty', 0) ('Empty', 0) ('Empty', 0)\n",
      "  ('Empty', 0)]\n",
      " [('Empty', 0) ('Empty', 0) ('human', 1) ('Empty', 0) ('Empty', 0)\n",
      "  ('Empty', 0)]\n",
      " [('Empty', 0) ('Empty', 0) ('Empty', 0) ('werewolf', 3) ('Empty', 0)\n",
      "  ('Empty', 0)]\n",
      " [('Empty', 0) ('Empty', 0) ('Empty', 0) ('Empty', 0) ('human', 1)\n",
      "  ('vampire', 3)]]\n"
     ]
    }
   ],
   "source": [
    "# Get the matrix\n",
    "with open('matrix.pkl', 'rb') as file:\n",
    "    saved_matrix = pickle.load(file)\n",
    "\n",
    "print(saved_matrix)"
   ]
  },
  {
   "cell_type": "code",
   "execution_count": 108,
   "metadata": {},
   "outputs": [
    {
     "name": "stdout",
     "output_type": "stream",
     "text": [
      "[[('Empty', 0) ('Empty', 0) ('Empty', 0) ('Empty', 0) ('Empty', 0)\n",
      "  ('Empty', 0)]\n",
      " [('Empty', 0) ('Empty', 0) ('Empty', 0) ('Empty', 0) ('Empty', 0)\n",
      "  ('Empty', 0)]\n",
      " [('Empty', 0) ('Empty', 0) ('human', 1) ('Empty', 0) ('Empty', 0)\n",
      "  ('Empty', 0)]\n",
      " [('Empty', 0) ('Empty', 0) ('Empty', 0) ('werewolf', 3) ('Empty', 0)\n",
      "  ('Empty', 0)]\n",
      " [('Empty', 0) ('Empty', 0) ('Empty', 0) ('Empty', 0) ('human', 1)\n",
      "  ('vampire', 3)]]\n",
      "Available moves\n",
      "[(1, [(5, 4, 3, 4, 4)]), (1, [(5, 4, 3, 5, 3)])]\n"
     ]
    }
   ],
   "source": [
    "# Use this cell and one below to move around\n",
    "\n",
    "node_1 = GameNode(saved_matrix,\"vampire\",\"vampire\")\n",
    "\n",
    "print(node_1.matrix)\n",
    "\n",
    "moves = node_1.generate_moves()\n",
    "\n",
    "\n",
    "print(\"Available moves\")\n",
    "print(moves)\n",
    "\n"
   ]
  },
  {
   "cell_type": "code",
   "execution_count": 105,
   "metadata": {},
   "outputs": [
    {
     "data": {
      "text/plain": [
       "0"
      ]
     },
     "execution_count": 105,
     "metadata": {},
     "output_type": "execute_result"
    }
   ],
   "source": [
    "node_1.evaluate_prev_node()"
   ]
  },
  {
   "cell_type": "code",
   "execution_count": 109,
   "metadata": {},
   "outputs": [
    {
     "name": "stdout",
     "output_type": "stream",
     "text": [
      "move_1\n",
      "(5, 4, 3, 4, 4)\n",
      "Attackng Humans\n",
      "Won Battle\n",
      "move applied to: vampire\n",
      "Output matrix\n",
      "[[('Empty', 0) ('Empty', 0) ('Empty', 0) ('Empty', 0) ('Empty', 0)\n",
      "  ('Empty', 0)]\n",
      " [('Empty', 0) ('Empty', 0) ('Empty', 0) ('Empty', 0) ('Empty', 0)\n",
      "  ('Empty', 0)]\n",
      " [('Empty', 0) ('Empty', 0) ('human', 1) ('Empty', 0) ('Empty', 0)\n",
      "  ('Empty', 0)]\n",
      " [('Empty', 0) ('Empty', 0) ('Empty', 0) ('werewolf', 3) ('Empty', 0)\n",
      "  ('Empty', 0)]\n",
      " [('Empty', 0) ('Empty', 0) ('Empty', 0) ('Empty', 0) ('vampire', 4)\n",
      "  ('Empty', 0)]]\n",
      "-1\n"
     ]
    }
   ],
   "source": [
    "child_node = GameNode(node_1.matrix, node_1.player_turn, node_1.our_global_team)\n",
    "\n",
    "use_move = 0\n",
    "\n",
    "move_1 = moves[use_move][1][0]\n",
    "\n",
    "print(\"move_1\")\n",
    "print(move_1)\n",
    "\n",
    "child_node.apply_move(move_1)\n",
    "print(\"Output matrix\")\n",
    "print(child_node.matrix)\n",
    "print(child_node.evaluate_prev_node())"
   ]
  },
  {
   "cell_type": "code",
   "execution_count": 32,
   "metadata": {},
   "outputs": [
    {
     "name": "stdout",
     "output_type": "stream",
     "text": [
      "move_1\n",
      "(3, 3, 3, 3, 2)\n",
      "Moving to empty cell\n",
      "matrix after empty cell move: \n",
      "[[('Empty', 0) ('Empty', 0) ('Empty', 0) ('Empty', 0) ('Empty', 0)\n",
      "  ('Empty', 0)]\n",
      " [('Empty', 0) ('Empty', 0) ('Empty', 0) ('Empty', 0) ('Empty', 0)\n",
      "  ('Empty', 0)]\n",
      " [('Empty', 0) ('Empty', 0) ('human', 1) ('werewolf', 3) ('Empty', 0)\n",
      "  ('Empty', 0)]\n",
      " [('Empty', 0) ('Empty', 0) ('Empty', 0) ('Empty', 0) ('Empty', 0)\n",
      "  ('Empty', 0)]\n",
      " [('Empty', 0) ('Empty', 0) ('Empty', 0) ('Empty', 0) ('human', 1)\n",
      "  ('vampire', 3)]]\n",
      "Output matrix\n",
      "[[('Empty', 0) ('Empty', 0) ('Empty', 0) ('Empty', 0) ('Empty', 0)\n",
      "  ('Empty', 0)]\n",
      " [('Empty', 0) ('Empty', 0) ('Empty', 0) ('Empty', 0) ('Empty', 0)\n",
      "  ('Empty', 0)]\n",
      " [('Empty', 0) ('Empty', 0) ('human', 1) ('werewolf', 3) ('Empty', 0)\n",
      "  ('Empty', 0)]\n",
      " [('Empty', 0) ('Empty', 0) ('Empty', 0) ('Empty', 0) ('Empty', 0)\n",
      "  ('Empty', 0)]\n",
      " [('Empty', 0) ('Empty', 0) ('Empty', 0) ('Empty', 0) ('human', 1)\n",
      "  ('vampire', 3)]]\n"
     ]
    }
   ],
   "source": [
    "\n",
    "\n",
    "\n",
    "use_move = 2\n",
    "\n",
    "move_1 = moves[use_move][1][0]\n",
    "\n",
    "print(\"move_1\")\n",
    "print(move_1)\n",
    "\n",
    "child_node.apply_move(move_1)\n",
    "print(\"Output matrix\")\n",
    "print(child_node.matrix)"
   ]
  },
  {
   "cell_type": "code",
   "execution_count": 35,
   "metadata": {},
   "outputs": [
    {
     "data": {
      "text/plain": [
       "'werewolf'"
      ]
     },
     "execution_count": 35,
     "metadata": {},
     "output_type": "execute_result"
    }
   ],
   "source": []
  },
  {
   "cell_type": "code",
   "execution_count": 178,
   "metadata": {},
   "outputs": [
    {
     "name": "stdout",
     "output_type": "stream",
     "text": [
      "found were\n",
      "found vamp\n"
     ]
    },
    {
     "data": {
      "text/plain": [
       "True"
      ]
     },
     "execution_count": 178,
     "metadata": {},
     "output_type": "execute_result"
    }
   ],
   "source": [
    "# Testing evaluation\n",
    "\n",
    "t_matrix = node_1.matrix\n",
    "g_matrix = matrix\n",
    "\n",
    "def check_monsters_presence(matrix):\n",
    "    vampire_found = False\n",
    "    werewolf_found = False\n",
    "\n",
    "    for row in matrix:\n",
    "        for item in row:\n",
    "            if item[0] == 'vampire':\n",
    "                print(\"found vamp\")\n",
    "                vampire_found = True\n",
    "            elif item[0] == 'werewolf':\n",
    "                print(\"found were\")\n",
    "                werewolf_found = True\n",
    "\n",
    "    return vampire_found and werewolf_found\n",
    "\n",
    "check_monsters_presence(t_matrix)"
   ]
  },
  {
   "cell_type": "code",
   "execution_count": 204,
   "metadata": {},
   "outputs": [
    {
     "name": "stdout",
     "output_type": "stream",
     "text": [
      "found vamp\n"
     ]
    },
    {
     "data": {
      "text/plain": [
       "True"
      ]
     },
     "execution_count": 204,
     "metadata": {},
     "output_type": "execute_result"
    }
   ],
   "source": [
    "node_1.is_terminal()"
   ]
  },
  {
   "cell_type": "code",
   "execution_count": 205,
   "metadata": {},
   "outputs": [
    {
     "name": "stdout",
     "output_type": "stream",
     "text": [
      "Player sum:  0\n",
      "Enemy sum:  8\n"
     ]
    },
    {
     "data": {
      "text/plain": [
       "-8"
      ]
     },
     "execution_count": 205,
     "metadata": {},
     "output_type": "execute_result"
    }
   ],
   "source": [
    "node_1.evaluate_prev_node()"
   ]
  },
  {
   "cell_type": "code",
   "execution_count": 206,
   "metadata": {},
   "outputs": [
    {
     "name": "stdout",
     "output_type": "stream",
     "text": [
      "Player sum:  0\n",
      "Enemy sum:  8\n"
     ]
    },
    {
     "data": {
      "text/plain": [
       "8"
      ]
     },
     "execution_count": 206,
     "metadata": {},
     "output_type": "execute_result"
    }
   ],
   "source": [
    "node_1.our_global_team = 'vampire'\n",
    "node_1.evaluate_prev_node()"
   ]
  }
 ],
 "metadata": {
  "kernelspec": {
   "display_name": "MSc_AI_Vamp_Were",
   "language": "python",
   "name": "python3"
  },
  "language_info": {
   "codemirror_mode": {
    "name": "ipython",
    "version": 3
   },
   "file_extension": ".py",
   "mimetype": "text/x-python",
   "name": "python",
   "nbconvert_exporter": "python",
   "pygments_lexer": "ipython3",
   "version": "3.11.5"
  }
 },
 "nbformat": 4,
 "nbformat_minor": 2
}
