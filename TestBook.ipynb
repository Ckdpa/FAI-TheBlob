{
 "cells": [
  {
   "cell_type": "code",
   "execution_count": 63,
   "metadata": {},
   "outputs": [
    {
     "name": "stdout",
     "output_type": "stream",
     "text": [
      "The autoreload extension is already loaded. To reload it, use:\n",
      "  %reload_ext autoreload\n"
     ]
    }
   ],
   "source": [
    "%load_ext autoreload\n",
    "%autoreload 2\n",
    "from GameNode import GameNode\n",
    "import pickle\n",
    "import numpy as np\n",
    "import matplotlib.pyplot as plt"
   ]
  },
  {
   "cell_type": "code",
   "execution_count": 164,
   "metadata": {},
   "outputs": [
    {
     "name": "stdout",
     "output_type": "stream",
     "text": [
      "[[('human', 5) ('Empty', 0) ('human', 5) ('human', 8) ('Empty', 0)\n",
      "  ('human', 12) ('Empty', 0) ('Empty', 0) ('Empty', 0) ('Empty', 0)]\n",
      " [('Empty', 0) ('Empty', 0) ('Empty', 0) ('Empty', 0) ('Empty', 0)\n",
      "  ('Empty', 0) ('Empty', 0) ('Empty', 0) ('Empty', 0) ('Empty', 0)]\n",
      " [('Empty', 0) ('human', 11) ('human', 9) ('Empty', 0) ('Empty', 0)\n",
      "  ('Empty', 0) ('Empty', 0) ('Empty', 0) ('human', 9) ('Empty', 0)]\n",
      " [('werewolf', 8) ('Empty', 0) ('Empty', 0) ('human', 6) ('Empty', 0)\n",
      "  ('Empty', 0) ('Empty', 0) ('Empty', 0) ('Empty', 0) ('Empty', 0)]\n",
      " [('Empty', 0) ('Empty', 0) ('Empty', 0) ('Empty', 0) ('Empty', 0)\n",
      "  ('Empty', 0) ('Empty', 0) ('Empty', 0) ('Empty', 0) ('Empty', 0)]\n",
      " [('Empty', 0) ('Empty', 0) ('Empty', 0) ('Empty', 0) ('Empty', 0)\n",
      "  ('Empty', 0) ('Empty', 0) ('Empty', 0) ('Empty', 0) ('Empty', 0)]\n",
      " [('vampire', 8) ('Empty', 0) ('Empty', 0) ('human', 6) ('Empty', 0)\n",
      "  ('Empty', 0) ('Empty', 0) ('Empty', 0) ('Empty', 0) ('Empty', 0)]\n",
      " [('Empty', 0) ('human', 11) ('human', 9) ('Empty', 0) ('Empty', 0)\n",
      "  ('Empty', 0) ('Empty', 0) ('Empty', 0) ('human', 9) ('Empty', 0)]\n",
      " [('Empty', 0) ('Empty', 0) ('Empty', 0) ('Empty', 0) ('Empty', 0)\n",
      "  ('Empty', 0) ('Empty', 0) ('Empty', 0) ('Empty', 0) ('Empty', 0)]\n",
      " [('human', 5) ('Empty', 0) ('human', 5) ('human', 8) ('Empty', 0)\n",
      "  ('human', 12) ('Empty', 0) ('Empty', 0) ('Empty', 0) ('Empty', 0)]]\n"
     ]
    }
   ],
   "source": [
    "# Get the matrix\n",
    "with open('matrix_2.pkl', 'rb') as file:\n",
    "    matrix = pickle.load(file)\n",
    "\n",
    "print(matrix)"
   ]
  },
  {
   "cell_type": "code",
   "execution_count": 150,
   "metadata": {},
   "outputs": [
    {
     "name": "stdout",
     "output_type": "stream",
     "text": [
      "[[('human', 5) ('Empty', 0) ('human', 5) ('human', 8) ('Empty', 0)\n",
      "  ('human', 12) ('Empty', 0) ('Empty', 0) ('Empty', 0) ('Empty', 0)]\n",
      " [('Empty', 0) ('Empty', 0) ('Empty', 0) ('Empty', 0) ('Empty', 0)\n",
      "  ('Empty', 0) ('Empty', 0) ('Empty', 0) ('Empty', 0) ('Empty', 0)]\n",
      " [('Empty', 0) ('human', 11) ('human', 9) ('Empty', 0) ('Empty', 0)\n",
      "  ('Empty', 0) ('Empty', 0) ('Empty', 0) ('human', 9) ('Empty', 0)]\n",
      " [('Empty', 0) ('Empty', 0) ('Empty', 0) ('human', 6) ('Empty', 0)\n",
      "  ('Empty', 0) ('Empty', 0) ('Empty', 0) ('Empty', 0) ('Empty', 0)]\n",
      " [('Empty', 0) ('Empty', 0) ('Empty', 0) ('Empty', 0) ('Empty', 0)\n",
      "  ('Empty', 0) ('Empty', 0) ('Empty', 0) ('Empty', 0) ('Empty', 0)]\n",
      " [('werewolf', 8) ('Empty', 0) ('Empty', 0) ('Empty', 0) ('Empty', 0)\n",
      "  ('Empty', 0) ('Empty', 0) ('Empty', 0) ('Empty', 0) ('Empty', 0)]\n",
      " [('vampire', 8) ('Empty', 0) ('Empty', 0) ('human', 6) ('Empty', 0)\n",
      "  ('Empty', 0) ('Empty', 0) ('Empty', 0) ('Empty', 0) ('Empty', 0)]\n",
      " [('Empty', 0) ('human', 11) ('human', 9) ('Empty', 0) ('Empty', 0)\n",
      "  ('Empty', 0) ('Empty', 0) ('Empty', 0) ('human', 9) ('Empty', 0)]\n",
      " [('Empty', 0) ('Empty', 0) ('Empty', 0) ('Empty', 0) ('Empty', 0)\n",
      "  ('Empty', 0) ('Empty', 0) ('Empty', 0) ('Empty', 0) ('Empty', 0)]\n",
      " [('human', 5) ('Empty', 0) ('human', 5) ('human', 8) ('Empty', 0)\n",
      "  ('human', 12) ('Empty', 0) ('Empty', 0) ('Empty', 0) ('Empty', 0)]]\n",
      "Generating moves\n",
      "Legal move:  1 0\n",
      "Legal move:  0 -1\n",
      "Legal move:  0 1\n",
      "Available moves\n",
      "[(1, [(0, 5, 8, 1, 5)]), (1, [(0, 5, 8, 0, 4)]), (1, [(0, 5, 8, 0, 6)])]\n"
     ]
    }
   ],
   "source": [
    "# Use this cell and one below to move around\n",
    "\n",
    "node_1 = GameNode(matrix,\"werewolf\")\n",
    "\n",
    "print(node_1.matrix)\n",
    "\n",
    "moves = node_1.generate_moves()\n",
    "\n",
    "print(\"Available moves\")\n",
    "print(moves)\n",
    "\n"
   ]
  },
  {
   "cell_type": "code",
   "execution_count": 151,
   "metadata": {},
   "outputs": [
    {
     "name": "stdout",
     "output_type": "stream",
     "text": [
      "move_1\n",
      "(0, 5, 8, 0, 6)\n",
      "Attacking Opponent\n",
      "Random Battle!\n",
      "Battle outcome: Attackers Win\n",
      "Number of attackers who survived: 5\n",
      "Output matrix\n",
      "[[('human', 5) ('Empty', 0) ('human', 5) ('human', 8) ('Empty', 0)\n",
      "  ('human', 12) ('Empty', 0) ('Empty', 0) ('Empty', 0) ('Empty', 0)]\n",
      " [('Empty', 0) ('Empty', 0) ('Empty', 0) ('Empty', 0) ('Empty', 0)\n",
      "  ('Empty', 0) ('Empty', 0) ('Empty', 0) ('Empty', 0) ('Empty', 0)]\n",
      " [('Empty', 0) ('human', 11) ('human', 9) ('Empty', 0) ('Empty', 0)\n",
      "  ('Empty', 0) ('Empty', 0) ('Empty', 0) ('human', 9) ('Empty', 0)]\n",
      " [('Empty', 0) ('Empty', 0) ('Empty', 0) ('human', 6) ('Empty', 0)\n",
      "  ('Empty', 0) ('Empty', 0) ('Empty', 0) ('Empty', 0) ('Empty', 0)]\n",
      " [('Empty', 0) ('Empty', 0) ('Empty', 0) ('Empty', 0) ('Empty', 0)\n",
      "  ('Empty', 0) ('Empty', 0) ('Empty', 0) ('Empty', 0) ('Empty', 0)]\n",
      " [('Empty', 0) ('Empty', 0) ('Empty', 0) ('Empty', 0) ('Empty', 0)\n",
      "  ('Empty', 0) ('Empty', 0) ('Empty', 0) ('Empty', 0) ('Empty', 0)]\n",
      " [('werewolf', 5) ('Empty', 0) ('Empty', 0) ('human', 6) ('Empty', 0)\n",
      "  ('Empty', 0) ('Empty', 0) ('Empty', 0) ('Empty', 0) ('Empty', 0)]\n",
      " [('Empty', 0) ('human', 11) ('human', 9) ('Empty', 0) ('Empty', 0)\n",
      "  ('Empty', 0) ('Empty', 0) ('Empty', 0) ('human', 9) ('Empty', 0)]\n",
      " [('Empty', 0) ('Empty', 0) ('Empty', 0) ('Empty', 0) ('Empty', 0)\n",
      "  ('Empty', 0) ('Empty', 0) ('Empty', 0) ('Empty', 0) ('Empty', 0)]\n",
      " [('human', 5) ('Empty', 0) ('human', 5) ('human', 8) ('Empty', 0)\n",
      "  ('human', 12) ('Empty', 0) ('Empty', 0) ('Empty', 0) ('Empty', 0)]]\n"
     ]
    }
   ],
   "source": [
    "use_move = 2\n",
    "\n",
    "move_1 = moves[use_move][1][0]\n",
    "\n",
    "print(\"move_1\")\n",
    "print(move_1)\n",
    "\n",
    "node_1.apply_move(move_1)\n",
    "print(\"Output matrix\")\n",
    "print(node_1.matrix)"
   ]
  },
  {
   "cell_type": "code",
   "execution_count": 168,
   "metadata": {},
   "outputs": [
    {
     "name": "stdout",
     "output_type": "stream",
     "text": [
      "found were\n"
     ]
    },
    {
     "data": {
      "text/plain": [
       "False"
      ]
     },
     "execution_count": 168,
     "metadata": {},
     "output_type": "execute_result"
    }
   ],
   "source": [
    "# Testing evaluation\n",
    "\n",
    "t_matrix = node_1.matrix\n",
    "g_matrix = matrix\n",
    "\n",
    "def check_monsters_presence(matrix):\n",
    "    vampire_found = False\n",
    "    werewolf_found = False\n",
    "\n",
    "    for row in matrix:\n",
    "        for item in row:\n",
    "            if item[0] == 'vampire':\n",
    "                print(\"found vamp\")\n",
    "                vampire_found = True\n",
    "            elif item[0] == 'werewolf':\n",
    "                print(\"found were\")\n",
    "                werewolf_found = True\n",
    "\n",
    "    return vampire_found and werewolf_found\n",
    "\n",
    "check_monsters_presence(t_matrix)"
   ]
  },
  {
   "cell_type": "code",
   "execution_count": 170,
   "metadata": {},
   "outputs": [
    {
     "name": "stdout",
     "output_type": "stream",
     "text": [
      "found were\n"
     ]
    },
    {
     "data": {
      "text/plain": [
       "True"
      ]
     },
     "execution_count": 170,
     "metadata": {},
     "output_type": "execute_result"
    }
   ],
   "source": [
    "node_1.is_terminal()"
   ]
  },
  {
   "cell_type": "code",
   "execution_count": null,
   "metadata": {},
   "outputs": [],
   "source": []
  }
 ],
 "metadata": {
  "kernelspec": {
   "display_name": "MSc_AI_Vamp_Were",
   "language": "python",
   "name": "python3"
  },
  "language_info": {
   "codemirror_mode": {
    "name": "ipython",
    "version": 3
   },
   "file_extension": ".py",
   "mimetype": "text/x-python",
   "name": "python",
   "nbconvert_exporter": "python",
   "pygments_lexer": "ipython3",
   "version": "3.11.5"
  }
 },
 "nbformat": 4,
 "nbformat_minor": 2
}
