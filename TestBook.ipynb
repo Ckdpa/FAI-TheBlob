{
 "cells": [
  {
   "cell_type": "code",
   "execution_count": 2,
   "metadata": {},
   "outputs": [],
   "source": [
    "%load_ext autoreload\n",
    "%autoreload 2\n",
    "from GameNode import GameNode\n",
    "import pickle\n",
    "import numpy as np\n",
    "import matplotlib.pyplot as plt\n",
    "from AlphaBeta import alpha_beta\n",
    "from AlphaBeta import find_best_move\n",
    "from MinMax import find_best_minmax\n",
    "from MinMax import MinMax"
   ]
  },
  {
   "cell_type": "code",
   "execution_count": null,
   "metadata": {},
   "outputs": [],
   "source": []
  },
  {
   "cell_type": "code",
   "execution_count": 3,
   "metadata": {},
   "outputs": [
    {
     "name": "stdout",
     "output_type": "stream",
     "text": [
      "[[('Empty', 0) ('Empty', 0) ('Empty', 0) ('Empty', 0) ('Empty', 0)\n",
      "  ('Empty', 0) ('Empty', 0) ('Empty', 0) ('Empty', 0) ('Empty', 0)]\n",
      " [('Empty', 0) ('Empty', 0) ('Empty', 0) ('Empty', 0) ('Empty', 0)\n",
      "  ('Empty', 0) ('Empty', 0) ('Empty', 0) ('Empty', 0) ('Empty', 0)]\n",
      " [('Empty', 0) ('Empty', 0) ('Empty', 0) ('Empty', 0) ('Empty', 0)\n",
      "  ('Empty', 0) ('Empty', 0) ('Empty', 0) ('Empty', 0) ('Empty', 0)]\n",
      " [('Empty', 0) ('Empty', 0) ('Empty', 0) ('Empty', 0) ('Empty', 0)\n",
      "  ('Empty', 0) ('Empty', 0) ('Empty', 0) ('Empty', 0) ('Empty', 0)]\n",
      " [('Empty', 0) ('Empty', 0) ('Empty', 0) ('Empty', 0) ('Empty', 0)\n",
      "  ('Empty', 0) ('Empty', 0) ('Empty', 0) ('Empty', 0) ('Empty', 0)]\n",
      " [('Empty', 0) ('Empty', 0) ('Empty', 0) ('Empty', 0) ('Empty', 0)\n",
      "  ('Empty', 0) ('Empty', 0) ('Empty', 0) ('Empty', 0) ('Empty', 0)]\n",
      " [('Empty', 0) ('Empty', 0) ('Empty', 0) ('werewolf', 69) ('Empty', 0)\n",
      "  ('Empty', 0) ('Empty', 0) ('Empty', 0) ('vampire', 43) ('Empty', 0)]\n",
      " [('Empty', 0) ('Empty', 0) ('Empty', 0) ('Empty', 0) ('Empty', 0)\n",
      "  ('Empty', 0) ('Empty', 0) ('Empty', 0) ('human', 12) ('Empty', 0)]\n",
      " [('Empty', 0) ('Empty', 0) ('Empty', 0) ('Empty', 0) ('Empty', 0)\n",
      "  ('Empty', 0) ('Empty', 0) ('Empty', 0) ('Empty', 0) ('Empty', 0)]\n",
      " [('Empty', 0) ('Empty', 0) ('Empty', 0) ('Empty', 0) ('Empty', 0)\n",
      "  ('Empty', 0) ('Empty', 0) ('Empty', 0) ('human', 9) ('human', 5)]]\n"
     ]
    }
   ],
   "source": [
    "# Get the matrix\n",
    "with open('last_matrix.pkl', 'rb') as file:\n",
    "    saved_matrix = pickle.load(file)\n",
    "\n",
    "print(saved_matrix)"
   ]
  },
  {
   "cell_type": "code",
   "execution_count": 4,
   "metadata": {},
   "outputs": [
    {
     "name": "stdout",
     "output_type": "stream",
     "text": [
      "[[('Empty', 0) ('Empty', 0) ('Empty', 0) ('Empty', 0) ('Empty', 0)\n",
      "  ('Empty', 0) ('Empty', 0) ('Empty', 0) ('Empty', 0) ('Empty', 0)]\n",
      " [('Empty', 0) ('Empty', 0) ('Empty', 0) ('Empty', 0) ('Empty', 0)\n",
      "  ('Empty', 0) ('Empty', 0) ('Empty', 0) ('Empty', 0) ('Empty', 0)]\n",
      " [('Empty', 0) ('Empty', 0) ('Empty', 0) ('Empty', 0) ('Empty', 0)\n",
      "  ('Empty', 0) ('Empty', 0) ('Empty', 0) ('Empty', 0) ('Empty', 0)]\n",
      " [('Empty', 0) ('Empty', 0) ('Empty', 0) ('Empty', 0) ('Empty', 0)\n",
      "  ('Empty', 0) ('Empty', 0) ('Empty', 0) ('Empty', 0) ('Empty', 0)]\n",
      " [('Empty', 0) ('Empty', 0) ('Empty', 0) ('Empty', 0) ('Empty', 0)\n",
      "  ('Empty', 0) ('Empty', 0) ('Empty', 0) ('Empty', 0) ('Empty', 0)]\n",
      " [('Empty', 0) ('Empty', 0) ('Empty', 0) ('Empty', 0) ('Empty', 0)\n",
      "  ('Empty', 0) ('Empty', 0) ('Empty', 0) ('Empty', 0) ('Empty', 0)]\n",
      " [('Empty', 0) ('Empty', 0) ('Empty', 0) ('werewolf', 69) ('Empty', 0)\n",
      "  ('Empty', 0) ('Empty', 0) ('Empty', 0) ('vampire', 43) ('Empty', 0)]\n",
      " [('Empty', 0) ('Empty', 0) ('Empty', 0) ('Empty', 0) ('Empty', 0)\n",
      "  ('Empty', 0) ('Empty', 0) ('Empty', 0) ('human', 12) ('Empty', 0)]\n",
      " [('Empty', 0) ('Empty', 0) ('Empty', 0) ('Empty', 0) ('Empty', 0)\n",
      "  ('Empty', 0) ('Empty', 0) ('Empty', 0) ('Empty', 0) ('Empty', 0)]\n",
      " [('Empty', 0) ('Empty', 0) ('Empty', 0) ('Empty', 0) ('Empty', 0)\n",
      "  ('Empty', 0) ('Empty', 0) ('Empty', 0) ('human', 9) ('human', 5)]]\n",
      "Available moves\n",
      "[(1, [(3, 6, 69, 2, 6)]), (1, [(3, 6, 69, 4, 6)]), (1, [(3, 6, 69, 3, 5)]), (1, [(3, 6, 69, 3, 7)])]\n"
     ]
    }
   ],
   "source": [
    "# Use this cell and one below to move around\n",
    "\n",
    "node_1 = GameNode(saved_matrix,\"werewolf\",\"werewolf\", [], 0, 1)\n",
    "\n",
    "print(node_1.matrix)\n",
    "\n",
    "moves = node_1.generate_moves()\n",
    "\n",
    "\n",
    "print(\"Available moves\")\n",
    "print(moves)\n",
    "\n"
   ]
  },
  {
   "cell_type": "code",
   "execution_count": 6,
   "metadata": {},
   "outputs": [
    {
     "name": "stdout",
     "output_type": "stream",
     "text": [
      "[1, 3, 4]\n"
     ]
    },
    {
     "data": {
      "text/plain": [
       "27"
      ]
     },
     "execution_count": 6,
     "metadata": {},
     "output_type": "execute_result"
    }
   ],
   "source": [
    "node_1.evaluate_prev_node()"
   ]
  },
  {
   "cell_type": "code",
   "execution_count": 182,
   "metadata": {},
   "outputs": [
    {
     "name": "stdout",
     "output_type": "stream",
     "text": [
      "move_1\n",
      "(1, [(0, 9, 14, 1, 9)])\n",
      "Moving: vampire\n"
     ]
    },
    {
     "ename": "IndexError",
     "evalue": "tuple index out of range",
     "output_type": "error",
     "traceback": [
      "\u001b[0;31m---------------------------------------------------------------------------\u001b[0m",
      "\u001b[0;31mIndexError\u001b[0m                                Traceback (most recent call last)",
      "\u001b[1;32m/Users/hugoderohanwillner/Documents/MSc AI/S1 Courses/Foundations of AI/VampWere/Dominatorix/TestBook.ipynb Cell 6\u001b[0m line \u001b[0;36m1\n\u001b[1;32m      <a href='vscode-notebook-cell:/Users/hugoderohanwillner/Documents/MSc%20AI/S1%20Courses/Foundations%20of%20AI/VampWere/Dominatorix/TestBook.ipynb#X16sZmlsZQ%3D%3D?line=6'>7</a>\u001b[0m \u001b[39mprint\u001b[39m(\u001b[39m\"\u001b[39m\u001b[39mmove_1\u001b[39m\u001b[39m\"\u001b[39m)\n\u001b[1;32m      <a href='vscode-notebook-cell:/Users/hugoderohanwillner/Documents/MSc%20AI/S1%20Courses/Foundations%20of%20AI/VampWere/Dominatorix/TestBook.ipynb#X16sZmlsZQ%3D%3D?line=7'>8</a>\u001b[0m \u001b[39mprint\u001b[39m(move_1)\n\u001b[0;32m---> <a href='vscode-notebook-cell:/Users/hugoderohanwillner/Documents/MSc%20AI/S1%20Courses/Foundations%20of%20AI/VampWere/Dominatorix/TestBook.ipynb#X16sZmlsZQ%3D%3D?line=9'>10</a>\u001b[0m child_node\u001b[39m.\u001b[39;49mapply_move(move_1)\n\u001b[1;32m     <a href='vscode-notebook-cell:/Users/hugoderohanwillner/Documents/MSc%20AI/S1%20Courses/Foundations%20of%20AI/VampWere/Dominatorix/TestBook.ipynb#X16sZmlsZQ%3D%3D?line=10'>11</a>\u001b[0m \u001b[39mprint\u001b[39m(\u001b[39m\"\u001b[39m\u001b[39mOutput matrix\u001b[39m\u001b[39m\"\u001b[39m)\n\u001b[1;32m     <a href='vscode-notebook-cell:/Users/hugoderohanwillner/Documents/MSc%20AI/S1%20Courses/Foundations%20of%20AI/VampWere/Dominatorix/TestBook.ipynb#X16sZmlsZQ%3D%3D?line=11'>12</a>\u001b[0m \u001b[39mprint\u001b[39m(child_node\u001b[39m.\u001b[39mmatrix)\n",
      "File \u001b[0;32m~/Documents/MSc AI/S1 Courses/Foundations of AI/VampWere/Dominatorix/GameNode.py:70\u001b[0m, in \u001b[0;36mGameNode.apply_move\u001b[0;34m(self, move)\u001b[0m\n\u001b[1;32m     68\u001b[0m \u001b[39m# Parse move\u001b[39;00m\n\u001b[1;32m     69\u001b[0m old_y, old_x \u001b[39m=\u001b[39m move[\u001b[39m0\u001b[39m], move[\u001b[39m1\u001b[39m]\n\u001b[0;32m---> 70\u001b[0m new_y, new_x \u001b[39m=\u001b[39m move[\u001b[39m3\u001b[39;49m], move[\u001b[39m4\u001b[39m] \u001b[39m# y is top down\u001b[39;00m\n\u001b[1;32m     72\u001b[0m \u001b[39m# Save which entity is being moved\u001b[39;00m\n\u001b[1;32m     73\u001b[0m entity \u001b[39m=\u001b[39m \u001b[39mself\u001b[39m\u001b[39m.\u001b[39mmatrix[old_x][old_y]\n",
      "\u001b[0;31mIndexError\u001b[0m: tuple index out of range"
     ]
    }
   ],
   "source": [
    "child_node = GameNode(node_1.matrix, node_1.player_turn, node_1.our_global_team, node_1.move_history)\n",
    "\n",
    "use_move = 0\n",
    "\n",
    "move_1 = moves[use_move][1][0]\n",
    "\n",
    "print(\"move_1\")\n",
    "print(move_1)\n",
    "\n",
    "child_node.apply_move(move_1)\n",
    "print(\"Output matrix\")\n",
    "print(child_node.matrix)\n",
    "print(child_node.evaluate_prev_node())"
   ]
  },
  {
   "cell_type": "code",
   "execution_count": 32,
   "metadata": {},
   "outputs": [
    {
     "name": "stdout",
     "output_type": "stream",
     "text": [
      "move_1\n",
      "(3, 3, 3, 3, 2)\n",
      "Moving to empty cell\n",
      "matrix after empty cell move: \n",
      "[[('Empty', 0) ('Empty', 0) ('Empty', 0) ('Empty', 0) ('Empty', 0)\n",
      "  ('Empty', 0)]\n",
      " [('Empty', 0) ('Empty', 0) ('Empty', 0) ('Empty', 0) ('Empty', 0)\n",
      "  ('Empty', 0)]\n",
      " [('Empty', 0) ('Empty', 0) ('human', 1) ('werewolf', 3) ('Empty', 0)\n",
      "  ('Empty', 0)]\n",
      " [('Empty', 0) ('Empty', 0) ('Empty', 0) ('Empty', 0) ('Empty', 0)\n",
      "  ('Empty', 0)]\n",
      " [('Empty', 0) ('Empty', 0) ('Empty', 0) ('Empty', 0) ('human', 1)\n",
      "  ('vampire', 3)]]\n",
      "Output matrix\n",
      "[[('Empty', 0) ('Empty', 0) ('Empty', 0) ('Empty', 0) ('Empty', 0)\n",
      "  ('Empty', 0)]\n",
      " [('Empty', 0) ('Empty', 0) ('Empty', 0) ('Empty', 0) ('Empty', 0)\n",
      "  ('Empty', 0)]\n",
      " [('Empty', 0) ('Empty', 0) ('human', 1) ('werewolf', 3) ('Empty', 0)\n",
      "  ('Empty', 0)]\n",
      " [('Empty', 0) ('Empty', 0) ('Empty', 0) ('Empty', 0) ('Empty', 0)\n",
      "  ('Empty', 0)]\n",
      " [('Empty', 0) ('Empty', 0) ('Empty', 0) ('Empty', 0) ('human', 1)\n",
      "  ('vampire', 3)]]\n"
     ]
    }
   ],
   "source": [
    "use_move = 2\n",
    "\n",
    "move_1 = moves[use_move][1][0]\n",
    "\n",
    "print(\"move_1\")\n",
    "print(move_1)\n",
    "\n",
    "child_node.apply_move(move_1)\n",
    "print(\"Output matrix\")\n",
    "print(child_node.matrix)"
   ]
  },
  {
   "cell_type": "code",
   "execution_count": 35,
   "metadata": {},
   "outputs": [
    {
     "data": {
      "text/plain": [
       "'werewolf'"
      ]
     },
     "execution_count": 35,
     "metadata": {},
     "output_type": "execute_result"
    }
   ],
   "source": []
  },
  {
   "cell_type": "code",
   "execution_count": 178,
   "metadata": {},
   "outputs": [
    {
     "name": "stdout",
     "output_type": "stream",
     "text": [
      "found were\n",
      "found vamp\n"
     ]
    },
    {
     "data": {
      "text/plain": [
       "True"
      ]
     },
     "execution_count": 178,
     "metadata": {},
     "output_type": "execute_result"
    }
   ],
   "source": [
    "# Testing evaluation\n",
    "\n",
    "t_matrix = node_1.matrix\n",
    "g_matrix = matrix\n",
    "\n",
    "def check_monsters_presence(matrix):\n",
    "    vampire_found = False\n",
    "    werewolf_found = False\n",
    "\n",
    "    for row in matrix:\n",
    "        for item in row:\n",
    "            if item[0] == 'vampire':\n",
    "                print(\"found vamp\")\n",
    "                vampire_found = True\n",
    "            elif item[0] == 'werewolf':\n",
    "                print(\"found were\")\n",
    "                werewolf_found = True\n",
    "\n",
    "    return vampire_found and werewolf_found\n",
    "\n",
    "check_monsters_presence(t_matrix)"
   ]
  },
  {
   "cell_type": "code",
   "execution_count": 204,
   "metadata": {},
   "outputs": [
    {
     "name": "stdout",
     "output_type": "stream",
     "text": [
      "found vamp\n"
     ]
    },
    {
     "data": {
      "text/plain": [
       "True"
      ]
     },
     "execution_count": 204,
     "metadata": {},
     "output_type": "execute_result"
    }
   ],
   "source": [
    "node_1.is_terminal()"
   ]
  },
  {
   "cell_type": "code",
   "execution_count": 205,
   "metadata": {},
   "outputs": [
    {
     "name": "stdout",
     "output_type": "stream",
     "text": [
      "Player sum:  0\n",
      "Enemy sum:  8\n"
     ]
    },
    {
     "data": {
      "text/plain": [
       "-8"
      ]
     },
     "execution_count": 205,
     "metadata": {},
     "output_type": "execute_result"
    }
   ],
   "source": [
    "node_1.evaluate_prev_node()"
   ]
  },
  {
   "cell_type": "code",
   "execution_count": 206,
   "metadata": {},
   "outputs": [
    {
     "name": "stdout",
     "output_type": "stream",
     "text": [
      "Player sum:  0\n",
      "Enemy sum:  8\n"
     ]
    },
    {
     "data": {
      "text/plain": [
       "8"
      ]
     },
     "execution_count": 206,
     "metadata": {},
     "output_type": "execute_result"
    }
   ],
   "source": [
    "node_1.our_global_team = 'vampire'\n",
    "node_1.evaluate_prev_node()"
   ]
  }
 ],
 "metadata": {
  "kernelspec": {
   "display_name": "MSc_AI_Vamp_Were",
   "language": "python",
   "name": "python3"
  },
  "language_info": {
   "codemirror_mode": {
    "name": "ipython",
    "version": 3
   },
   "file_extension": ".py",
   "mimetype": "text/x-python",
   "name": "python",
   "nbconvert_exporter": "python",
   "pygments_lexer": "ipython3",
   "version": "3.11.5"
  }
 },
 "nbformat": 4,
 "nbformat_minor": 2
}
